{
 "cells": [
  {
   "cell_type": "markdown",
   "metadata": {
    "pycharm": {
     "name": "#%% md\n"
    }
   },
   "source": [
    "# Дано:\n",
    "\n",
    "$x$, м — координата точки\n",
    "$t$, с — время (от 0 до 14400 с).\n",
    "$S(x,t)$ — доля объёма пор, занятых водой\n",
    "$i = 1$ — исходно насыщающая пласт жидкость\n",
    "$i = 2$ — закачиваемая жидкость\n",
    "$m = 0.3$ — коэффициент пористости\n",
    "$k_i$ и $\\mu_i = const$ — коэффициенты относительной фазовой проницаемости и динамической вязкости соответственно.\n",
    "\n",
    "Принять, что соотношение коэффициентов $k_1/k_2$ равно соотношению насыщенности жидкостей\n",
    "\n",
    "$$\n",
    "\\frac{k_1}{k_2} = \\frac{S_1}{S_2}\n",
    "$$\n",
    "\n",
    "Динамическая вязкость для исходно насыщающей пласт жидкости в два раза больше, чем для закачиваемой жидкости:\n",
    "\n",
    "$$\n",
    "\\frac{\\mu_1}{\\mu_2} = 2\n",
    "$$\n",
    "\n",
    "Линейный закон фильтрации:\n",
    "\n",
    "$$\n",
    "u_i = - \\frac{k_i}{\\mu_i} \\nabla p\n",
    "$$\n",
    "\n",
    "Суммарная скорость фильтрации двух жидкостей $u_1 + u_2$ постоянна и равна $0.1 \\frac{\\text{мм}}{\\text{с}}$:\n",
    "\n",
    "$$\n",
    "u_1 + u_2 = 0.0001 = u\n",
    "$$\n",
    "\n",
    "Принять, что при совместном течении в пористом пласте нескольких несмешивающихся жидкостей величина насыщенности $S_i$ для каждой жидкости связана со скоростью фильтрации $u_i$ следующим соотношением:\n",
    "\n",
    "$$\n",
    "m \\frac{\\partial S_i}{\\partial t} = - \\text{div}\\; u_i\n",
    "$$\n",
    "\n",
    "# Решение\n",
    "\n",
    "\n",
    "(1)\n",
    "$$\n",
    "u_1 = - \\frac{k_1}{\\mu_1} \\frac{\\partial p}{\\partial x}\n",
    "$$\n",
    "\n",
    "(2)\n",
    "$$\n",
    "u_2 = - \\frac{k_2}{\\mu_2} \\frac{\\partial p}{\\partial x}\n",
    "$$\n",
    "\n",
    "(3)\n",
    "$$\n",
    "m \\frac{\\partial S_1}{\\partial t} = - \\frac{\\partial u_1}{\\partial x}\n",
    "$$\n",
    "\n",
    "(4)\n",
    "$$\n",
    "m \\frac{\\partial S_2}{\\partial t} = - \\frac{\\partial u_2}{\\partial x}\n",
    "$$\n",
    "\n",
    "(1)/(2)\n",
    "\n",
    "(5)\n",
    "\n",
    "$$\n",
    "\\frac{u_1}{u_2} = \\frac{k_1}{k_2} \\frac{\\mu_2}{\\mu_1} = \\frac{S_1}{2 S_2}\n",
    "$$\n",
    "\n",
    "(6)\n",
    "$$\n",
    "u_1 + u_2 = 0.0001 = u\n",
    "$$\n",
    "\n",
    "Система нелинейных алгебраических уравнений $(5) - (6)$ может быть решена аналитически или численно методом Ньютона на каждом шаге по времени.\n",
    "\n",
    "Так как в системе только две жидкости, их суммарная насыщенность всегда равна $1$, то есть\n",
    "\n",
    "(7)\n",
    "$$\n",
    "S_1 + S_2 = 1\n",
    "$$.\n",
    "\n",
    "Поэтому уравнение $(3)$ можно не решать ввиду его избыточности.\n",
    "\n",
    "Решаем уравнение $(4)$:\n",
    "\n",
    "$$\n",
    "m \\frac{\\partial S_2}{\\partial t} = - \\frac{\\partial u_2}{\\partial x}\n",
    "$$\n",
    "\n",
    "Из $(5)$, $(6)$ $(7)$\n",
    "$$\n",
    "S_1 + S_2 = 1 \\leftrightarrow S_1 = 1 - S_2\n",
    "$$\n",
    "\n",
    "$$\n",
    "\\frac{u_1}{u_2} = \\frac{S_1}{2 S_2} \\leftrightarrow u_1 \\cdot 2 \\cdot S_2 = S_1 \\cdot u_2\n",
    "$$\n",
    "\n",
    "$$\n",
    "u_1 + u_2 = u \\leftrightarrow u_1 = u - u_2\n",
    "$$\n",
    "\n",
    "Оставляем выражение для $u_2$:\n",
    "\n",
    "$$\n",
    "(u - u_2) \\cdot 2 \\cdot S_2 = (1 - S_2) \\cdot u_2 \\leftrightarrow u_2 = \\frac{2 u S_2}{1 + S_2}\n",
    "$$\n",
    "\n",
    "Получаем уравнение относительно $S = S_2$ следующего вида:\n",
    "$$\n",
    "\\begin{cases}\n",
    "m \\frac{\\partial S}{\\partial t} + \\frac{2 u \\frac{\\partial S}{\\partial x}}{1 + S} - \\frac{2 u S \\frac{\\partial S}{\\partial x}}{(1 + S)^2} = 0 \\\\\n",
    "S_2 (x = 10) = 1 \\\\\n",
    "S_2 (t = 0) = \\begin{cases}\n",
    "0, x < 10 \\\\\n",
    "1, x = 10\n",
    "\\end{cases}\n",
    "\\end{cases}\n",
    "$$"
   ]
  },
  {
   "cell_type": "code",
   "execution_count": 1,
   "metadata": {
    "pycharm": {
     "name": "#%%\n"
    }
   },
   "outputs": [
    {
     "name": "stdout",
     "output_type": "stream",
     "text": [
      "0.14400000000000002\n"
     ]
    }
   ],
   "source": [
    "from scipy import optimize\n",
    "import numpy as np\n",
    "\n",
    "max_time = float(3600*4)\n",
    "max_x = float(10)\n",
    "\n",
    "nx, nt = 100, 100\n",
    "hx, ht = max_x / float(nx - 1), max_time / float(nt - 1)\n",
    "\n",
    "m = 0.3\n",
    "u = -0.0001\n",
    "\n",
    "print(abs(u) * ht / hx)\n",
    "\n",
    "kolgan = True"
   ]
  },
  {
   "cell_type": "code",
   "execution_count": 2,
   "metadata": {
    "pycharm": {
     "name": "#%%\n"
    }
   },
   "outputs": [],
   "source": [
    "P_right = 1\n",
    "P_bottom = 0"
   ]
  },
  {
   "cell_type": "code",
   "execution_count": 3,
   "metadata": {
    "pycharm": {
     "name": "#%%\n"
    }
   },
   "outputs": [],
   "source": [
    "def minmod(a, b):\n",
    "   return 0.5*(np.sign(a) + np.sign(b))*np.minimum(np.abs(a), np.abs(b))\n",
    "\n",
    "def residual(S):\n",
    "   d1x = np.zeros_like(S)\n",
    "   d1t = np.zeros_like(S)\n",
    "\n",
    "   if not kolgan:\n",
    "     d1x[0:-1] = (S[1:] - S[0:-1]) / hx\n",
    "   else:\n",
    "     d1x[0] = (S[1] - S[0]) / hx\n",
    "     d1x[1:-2] = (S[2:-1] - S[1:-2]) / hx  - (minmod((S[3:] - S[2:-1]) / hx, (S[2:-1] - S[1:-2]) / hx)  - minmod((S[2:-1] - S[1:-2]) / hx, (S[1:-2] - S[0:-3]) / hx))/2.0\n",
    "   d1x[-2] = (S[-1] - S[-2]) / hx\n",
    "   d1x[-1] = (P_right - S[-1]) / hx\n",
    "\n",
    "   d1t[:,0] = (S[:, 0] - P_bottom) / ht\n",
    "   d1t[:,1:] = (S[:, 1:] - S[:, 0:-1]) / ht\n",
    "\n",
    "   return m * d1t + (2* u * d1x) / (1.0 + S) - (2* u * S * d1x) / ((1.0 + S) ** 2)"
   ]
  },
  {
   "cell_type": "code",
   "execution_count": 4,
   "metadata": {},
   "outputs": [
    {
     "data": {
      "text/plain": [
       "array([0., 2., 0.])"
      ]
     },
     "execution_count": 4,
     "metadata": {},
     "output_type": "execute_result"
    }
   ],
   "source": [
    "minmod(np.array([1, 2, 3]), np.array([-1,3,-1]))"
   ]
  },
  {
   "cell_type": "code",
   "execution_count": 5,
   "metadata": {
    "pycharm": {
     "name": "#%%\n"
    }
   },
   "outputs": [],
   "source": [
    "guess = np.zeros((nx, nt), float)\n",
    "guess[-1, :] = 1"
   ]
  },
  {
   "cell_type": "code",
   "execution_count": 6,
   "metadata": {
    "pycharm": {
     "name": "#%%\n"
    }
   },
   "outputs": [],
   "source": [
    "sol = optimize.root(residual, guess, method='krylov')"
   ]
  },
  {
   "cell_type": "code",
   "execution_count": 7,
   "metadata": {
    "pycharm": {
     "name": "#%%\n"
    }
   },
   "outputs": [
    {
     "name": "stdout",
     "output_type": "stream",
     "text": [
      "Residual: 1.87798e-06\n"
     ]
    }
   ],
   "source": [
    "print('Residual: %g' % abs(residual(sol.x)).max())"
   ]
  },
  {
   "cell_type": "code",
   "execution_count": 8,
   "metadata": {
    "pycharm": {
     "name": "#%%\n"
    }
   },
   "outputs": [],
   "source": [
    "import matplotlib.pyplot as plt"
   ]
  },
  {
   "cell_type": "code",
   "execution_count": 9,
   "metadata": {
    "pycharm": {
     "name": "#%%\n"
    }
   },
   "outputs": [],
   "source": [
    "x, y = np.mgrid[0:max_x:(nx*1j), 0:max_time:(nt * 1j)]"
   ]
  },
  {
   "cell_type": "code",
   "execution_count": 10,
   "metadata": {
    "pycharm": {
     "name": "#%%\n"
    }
   },
   "outputs": [
    {
     "data": {
      "image/png": "[encoded data removed]",
      "text/plain": [
       "<Figure size 432x288 with 2 Axes>"
      ]
     },
     "metadata": {
      "needs_background": "light"
     },
     "output_type": "display_data"
    }
   ],
   "source": [
    "plt.pcolormesh(x, y, sol.x, shading='gouraud')\n",
    "plt.colorbar()\n",
    "plt.show()"
   ]
  },
  {
   "cell_type": "code",
   "execution_count": 11,
   "metadata": {},
   "outputs": [],
   "source": [
    "with open(\"solution.txt\", \"w\") as text_file:\n",
    "   text_file.write(\"\\n\".join([f\"{a}\\t{b}\" for a, b in zip(x[:,-1], sol.x[:,-1])]))"
   ]
  },
  {
   "cell_type": "code",
   "execution_count": 12,
   "metadata": {
    "pycharm": {
     "name": "#%% md\n"
    }
   },
   "outputs": [],
   "source": [
    "Ss = np.linspace(1,0,num=101)\n",
    "\n",
    "m = 0.3\n",
    "mu = 1/2\n",
    "u_inj = -0.0001\n",
    "x_0 = 10\n",
    "\n",
    "def f(S, t):\n",
    "    return (S**2*m*mu**2*x_0 - 2*S**2*m*mu*x_0 - 2*S*m*mu**2*x_0 + S**2*m*x_0 + 2*S*m*mu*x_0 + m*mu**2*x_0 + mu*t*u_inj)/((S*mu - S - mu)**2*m)"
   ]
  },
  {
   "cell_type": "code",
   "execution_count": 13,
   "metadata": {
    "pycharm": {
     "name": "#%%\n"
    }
   },
   "outputs": [
    {
     "data": {
      "text/plain": [
       "[<matplotlib.lines.Line2D at 0x7f4c36e938e0>]"
      ]
     },
     "execution_count": 13,
     "metadata": {},
     "output_type": "execute_result"
    },
    {
     "data": {
      "image/png": "[encoded data removed]",
      "text/plain": [
       "<Figure size 432x288 with 1 Axes>"
      ]
     },
     "metadata": {
      "needs_background": "light"
     },
     "output_type": "display_data"
    }
   ],
   "source": [
    "plt.plot(x[:,-1],sol.x[:,-1])\n",
    "plt.plot(np.array(list(map(lambda S: f(S, t=14400), Ss))),Ss)"
   ]
  }
 ],
 "metadata": {
  "kernelspec": {
   "display_name": "Python 3 (ipykernel)",
   "language": "python",
   "name": "python3"
  },
  "language_info": {
   "codemirror_mode": {
    "name": "ipython",
    "version": 3
   },
   "file_extension": ".py",
   "mimetype": "text/x-python",
   "name": "python",
   "nbconvert_exporter": "python",
   "pygments_lexer": "ipython3",
   "version": "3.9.6"
  }
 },
 "nbformat": 4,
 "nbformat_minor": 4
}
