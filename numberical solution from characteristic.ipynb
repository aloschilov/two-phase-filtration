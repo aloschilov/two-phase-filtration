{
 "cells": [
  {
   "cell_type": "code",
   "execution_count": 7,
   "metadata": {
    "collapsed": true,
    "pycharm": {
     "name": "#%%\n"
    }
   },
   "outputs": [],
   "source": [
    "import numpy as np\n",
    "\n",
    "Ss = np.linspace(1,0,num=101)\n",
    "\n",
    "m = 0.3\n",
    "mu = 1/2\n",
    "u_inj = -0.0001\n",
    "x_0 = 10\n",
    "\n",
    "def f(S, t):\n",
    "    return (S**2*m*mu**2*x_0 - 2*S**2*m*mu*x_0 - 2*S*m*mu**2*x_0 + S**2*m*x_0 + 2*S*m*mu*x_0 + m*mu**2*x_0 + mu*t*u_inj)/((S*mu - S - mu)**2*m)"
   ]
  },
  {
   "cell_type": "code",
   "execution_count": 8,
   "outputs": [],
   "source": [
    "x = np.array(list(map(lambda S: f(S, t=14400), Ss)))"
   ],
   "metadata": {
    "collapsed": false,
    "pycharm": {
     "name": "#%%\n"
    }
   }
  },
  {
   "cell_type": "code",
   "execution_count": 9,
   "outputs": [],
   "source": [
    "with open(\"solution.txt\", \"w\") as text_file:\n",
    "   text_file.write(\"\\n\".join([f\"{a}\\t{b}\" for a, b in zip(x, Ss)]))"
   ],
   "metadata": {
    "collapsed": false,
    "pycharm": {
     "name": "#%%\n"
    }
   }
  }
 ],
 "metadata": {
  "kernelspec": {
   "display_name": "Python 3",
   "language": "python",
   "name": "python3"
  },
  "language_info": {
   "codemirror_mode": {
    "name": "ipython",
    "version": 2
   },
   "file_extension": ".py",
   "mimetype": "text/x-python",
   "name": "python",
   "nbconvert_exporter": "python",
   "pygments_lexer": "ipython2",
   "version": "2.7.6"
  }
 },
 "nbformat": 4,
 "nbformat_minor": 0
}